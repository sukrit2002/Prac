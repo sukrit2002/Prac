{
 "cells": [
  {
   "cell_type": "code",
   "execution_count": 4,
   "metadata": {},
   "outputs": [],
   "source": [
    "def knapsack(values,weights,maxWeight,n):\n",
    "    #Base Case\n",
    "    if n==0 or maxWeight==0:\n",
    "        return 0\n",
    "    if weights[n-1]>maxWeight:\n",
    "        return knapsack(values,weights,maxWeight,n-1)\n",
    "    else:\n",
    "        includeitem=values[n-1]+knapsack(values,weights,maxWeight-weights[n-1],n-1)\n",
    "        excludeItem=knapsack(values,weights,maxWeight,n-1)\n",
    "        return max(includeitem,excludeItem)"
   ]
  },
  {
   "cell_type": "code",
   "execution_count": 5,
   "metadata": {},
   "outputs": [
    {
     "name": "stdout",
     "output_type": "stream",
     "text": [
      "400\n"
     ]
    }
   ],
   "source": [
    "values=[300,200,100]\n",
    "weights=[4,3,1]\n",
    "print(knapsack(values,weights,5,3))"
   ]
  },
  {
   "cell_type": "code",
   "execution_count": null,
   "metadata": {},
   "outputs": [],
   "source": []
  }
 ],
 "metadata": {
  "kernelspec": {
   "display_name": "Python 3",
   "language": "python",
   "name": "python3"
  },
  "language_info": {
   "codemirror_mode": {
    "name": "ipython",
    "version": 3
   },
   "file_extension": ".py",
   "mimetype": "text/x-python",
   "name": "python",
   "nbconvert_exporter": "python",
   "pygments_lexer": "ipython3",
   "version": "3.7.3"
  }
 },
 "nbformat": 4,
 "nbformat_minor": 2
}
