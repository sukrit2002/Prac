{
 "cells": [
  {
   "cell_type": "code",
   "execution_count": null,
   "metadata": {},
   "outputs": [],
   "source": [
    "import queue\n",
    "class Graph:\n",
    "    def __init__(self,nVertices):\n",
    "        self.nVertices=nVertices\n",
    "        self.adjMatrix=[[0 for i in range(nVertices)]for j in range(nVertices)]\n",
    "    def addEdge(self,v1,v2):\n",
    "        self.adjMatrix[v1][v2]=1\n",
    "        self.adjMatrix[v2][v1]=1\n",
    "    def bfs(self):\n",
    "        q=queue.Queue()\n",
    "        q.put(0)\n",
    "        visited=[False for i in range(self.nVertices)]\n",
    "        visited[0]=True\n",
    "        while q.empty() is False:\n",
    "            k=q.get()\n",
    "            print(k)\n",
    "            for i in range(self.nVertices):\n",
    "                if (self.adjMatrix[k][i]>0 and visited[i] is False):\n",
    "                    q.put(i)\n",
    "                    visited[i]=True\n",
    "\n",
    "    def __str__(self):\n",
    "        return str(self.adjMatrix)\n",
    "li =[]\n",
    "for i in range(2):\n",
    "    ele=int(input(),end=' ')\n",
    "    li.append(ele)\n",
    "V = int(li[0])\n",
    "E = int(li[1])\n",
    "\n",
    "g = Graph(V)\n",
    "\n",
    "arr = []\n",
    "for k in range(E):\n",
    "    ele1=int(input()end=' ')\n",
    "    arr.append(ele1)\n",
    "fv = int(arr[0])\n",
    "sv = int(arr[1])\n",
    "g.addEdge(fv, sv)\n",
    "    \n",
    "g.bfs()"
   ]
  }
 ],
 "metadata": {
  "kernelspec": {
   "display_name": "Python 3",
   "language": "python",
   "name": "python3"
  }
 },
 "nbformat": 4,
 "nbformat_minor": 2
}
