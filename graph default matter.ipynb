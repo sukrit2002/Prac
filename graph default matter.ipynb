{
 "cells": [
  {
   "cell_type": "code",
   "execution_count": null,
   "metadata": {},
   "outputs": [],
   "source": [
    "import queue\n",
    "from sys import stdin, setrecursionlimit\n",
    "setrecursionlimit(10**6)\n",
    "\n",
    "\n",
    "class Graph:\n",
    "    def __init__(self, nVertices):\n",
    "        self.nVertices = nVertices\n",
    "        self.adjMatrix = [[0 for i in range(nVertices)]\n",
    "                          for j in range(nVertices)]\n",
    "\n",
    "    def addEdge(self, v1, v2):\n",
    "        self.adjMatrix[v1][v2] = 1\n",
    "        self.adjMatrix[v2][v1] = 1\n",
    "\n",
    "    def removeEdge(self):\n",
    "        if self.containsEdge(v1, v2) is False:\n",
    "            return\n",
    "        self.adjMatrix[v1][v2] = 0\n",
    "        self.adjMatrix[v2][v1] = 0\n",
    "\n",
    "    def containsEdge(self, v1, v2):\n",
    "        if self.adjMatrix[v1][v2] > 0:\n",
    "            return True\n",
    "        else:\n",
    "            return False\n",
    "    def __hasPathHelper(self,sv,visited):\n",
    "        \n",
    "\n",
    "\n",
    "    def hasPath(self):\n",
    "        visited=[False for i in range(V)]\n",
    "        self.__hasPathHelper(0,visited)\n",
    "\n",
    "\n",
    "    def __str__(self):\n",
    "        return str(self.adjMatrix)\n",
    "\n",
    "\n",
    "\n",
    "li = stdin.readline().strip().split()\n",
    "V = int(li[0])\n",
    "E = int(li[1])\n",
    "\n",
    "g = Graph(V)\n",
    "\n",
    "for i in range(E):\n",
    "    arr = stdin.readline().strip().split()\n",
    "    fv = int(arr[0])\n",
    "    sv = int(arr[1])\n",
    "    g.addEdge(fv, sv)\n",
    "\n",
    "g.hasPath()\n"
   ]
  }
 ],
 "metadata": {
  "kernelspec": {
   "display_name": "Python 3",
   "language": "python",
   "name": "python3"
  },
  "language_info": {
   "codemirror_mode": {
    "name": "ipython",
    "version": 3
   },
   "file_extension": ".py",
   "mimetype": "text/x-python",
   "name": "python",
   "nbconvert_exporter": "python",
   "pygments_lexer": "ipython3",
   "version": "3.7.3"
  }
 },
 "nbformat": 4,
 "nbformat_minor": 2
}
